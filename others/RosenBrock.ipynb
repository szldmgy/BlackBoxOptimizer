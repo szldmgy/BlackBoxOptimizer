{
 "cells": [
  {
   "cell_type": "code",
   "execution_count": 19,
   "metadata": {
    "scrolled": true
   },
   "outputs": [
    {
     "name": "stdout",
     "output_type": "stream",
     "text": [
      "['/Users/peterkiss/anaconda/lib/python3.6/site-packages/ipykernel_launcher.py', '-f', '/Users/peterkiss/Library/Jupyter/runtime/kernel-ff5c4418-e4cb-4703-ba73-0134019a9802.json']\n",
      "rosen 336.62\n"
     ]
    },
    {
     "data": {
      "text/plain": [
       "12"
      ]
     },
     "execution_count": 19,
     "metadata": {},
     "output_type": "execute_result"
    }
   ],
   "source": [
    "import sys\n",
    "import numpy as np\n",
    "from scipy.optimize import minimize\n",
    "def rosen(x):\n",
    "     #\"\"\"The Rosenbrock function\"\"\"\n",
    "     return sum(100.0*(x[1:]-x[:-1]**2.0)**2.0 + (1-x[:-1])**2.0)\n",
    "\n",
    "print(sys.argv) \n",
    "x = np.array([float(i) for i in sys.argv[3:]]) #[float(i) for i in sys.argv[3:]]\n",
    "x = np.array([1.1,2.2,3.3]) #[float(i) for i in sys.argv[3:]]\n",
    "\n",
    "f = open('obj.txt', 'w')\n",
    "#print('rosen '+ str(rosen(x)))\n",
    "f.write('rosen '+ str(rosen(x)))\n",
    "\n"
   ]
  },
  {
   "cell_type": "markdown",
   "metadata": {},
   "source": [
    "# rosenbrock_demo.py\n",
    "#\n",
    "#Python 2.7.3\n",
    "#Matplotlib 1.1.1rc\n",
    "\n",
    "#Code also works fine with Anaconda3 / matplotlib version 1.4.0!\n",
    "#Code also works fine with CPython 3.4.2 + Scipy-stack-14.8.27.win32-py3.4 from\n",
    "#   Christoph Gohlke's unofficial libraries:\n",
    "#    http://www.lfd.uci.edu/~gohlke/pythonlibs/\n",
    "\n",
    "#Works fine with Python3 on Ubuntu 14.04 after adding SciPy stack:\n",
    "# sudo apt-get install python3-numpy python3-scipy python3-matplotlib\n",
    "\n",
    "\n",
    "\n",
    "#This function is not used, but illustrates the Rosenbrock function with\n",
    "# 2 parameters. The actual Rosenbrock function is embedded in the code below\n",
    "# using array operations so that it is calculated over a meshgrid of many\n",
    "# points to produce an array of many Z values.\n",
    "#Rosenbrock function of 2 variables:\n",
    "def rosenbrock(x,y):\n",
    "      return (1-x)**2 + 100* ((y-x**2))**2\n",
    "\n",
    "    \n",
    "from mpl_toolkits.mplot3d import Axes3D\n",
    "from matplotlib import cm\n",
    "from matplotlib.ticker import LinearLocator, FormatStrFormatter\n",
    "import matplotlib.pyplot as plot\n",
    "import numpy as np\n",
    "\n",
    "fig = plot.figure()\n",
    "ax = fig.gca(projection='3d')\n",
    "\n",
    "s = 0.05   # Try s=1, 0.25, 0.1, or 0.05\n",
    "X = np.arange(-2, 2.+s, s)   #Could use linspace instead if dividing\n",
    "Y = np.arange(-2, 3.+s, s)   #evenly instead of stepping...\n",
    "    \n",
    "#Create the mesh grid(s) for all X/Y combos.\n",
    "X, Y = np.meshgrid(X, Y)\n",
    "\n",
    "#Rosenbrock function w/ two parameters using numpy Arrays\n",
    "Z = (1.-X)**2 + 100.*(Y-X*X)**2\n",
    "\n",
    "surf = ax.plot_surface(X, Y, Z, rstride=1, cstride=1, cmap=cm.coolwarm,\n",
    "         linewidth=0, antialiased=False)  #Try coolwarm vs jet\n",
    "\n",
    " \n",
    "ax.zaxis.set_major_locator(LinearLocator(10))\n",
    "ax.zaxis.set_major_formatter(FormatStrFormatter('%.02f'))\n",
    "\n",
    "fig.colorbar(surf, shrink=0.5, aspect=5)\n",
    "\n",
    "#Displays the figure, handles user interface, returns when user closes window\n",
    "plot.show()\n"
   ]
  },
  {
   "cell_type": "code",
   "execution_count": null,
   "metadata": {
    "collapsed": true
   },
   "outputs": [],
   "source": []
  }
 ],
 "metadata": {
  "kernelspec": {
   "display_name": "Python 3",
   "language": "python",
   "name": "python3"
  },
  "language_info": {
   "codemirror_mode": {
    "name": "ipython",
    "version": 3
   },
   "file_extension": ".py",
   "mimetype": "text/x-python",
   "name": "python",
   "nbconvert_exporter": "python",
   "pygments_lexer": "ipython3",
   "version": "3.6.1"
  }
 },
 "nbformat": 4,
 "nbformat_minor": 2
}
